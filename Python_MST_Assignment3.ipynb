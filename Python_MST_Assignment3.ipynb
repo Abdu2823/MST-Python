{
  "nbformat": 4,
  "nbformat_minor": 0,
  "metadata": {
    "colab": {
      "provenance": []
    },
    "kernelspec": {
      "name": "python3",
      "display_name": "Python 3"
    },
    "language_info": {
      "name": "python"
    }
  },
  "cells": [
    {
      "cell_type": "markdown",
      "source": [
        "\n",
        "1. Write a function that returns the middle value among three integers.Write code to test this\n",
        "function with different inputs."
      ],
      "metadata": {
        "id": "L6Zi_ySL0WGn"
      }
    },
    {
      "cell_type": "code",
      "source": [
        "def middle_value(a, b, c):\n",
        "    values = sorted([a, b, c])\n",
        "    return values[1]\n",
        "\n",
        "# Testing with different inputs\n",
        "print(middle_value(1, 3, 5))\n",
        "print(middle_value(1, 5, 7))\n",
        "print(middle_value(1, 2, 4))\n",
        "print(middle_value(1, 4, 7))\n",
        "print(middle_value(-10, 0, 10))"
      ],
      "metadata": {
        "colab": {
          "base_uri": "https://localhost:8080/"
        },
        "id": "ndI2xMYT0nUU",
        "outputId": "f91609ab-2857-4dec-fef4-9d2ee671cd8e"
      },
      "execution_count": 1,
      "outputs": [
        {
          "output_type": "stream",
          "name": "stdout",
          "text": [
            "3\n",
            "5\n",
            "2\n",
            "4\n",
            "0\n"
          ]
        }
      ]
    },
    {
      "cell_type": "markdown",
      "source": [
        "2. Build a calculator in Python using functions"
      ],
      "metadata": {
        "id": "Q_2ZEW7H0zmM"
      }
    },
    {
      "cell_type": "code",
      "source": [
        "def add(x, y):\n",
        "    return x + y\n",
        "\n",
        "def subtract(x, y):\n",
        "    return x - y\n",
        "\n",
        "def multiply(x, y):\n",
        "    return x * y\n",
        "\n",
        "def divide(x, y):\n",
        "    if y == 0:\n",
        "        return \"Error: Division by zero is not allowed\"\n",
        "    else:\n",
        "        return x / y\n",
        "\n",
        "print(\"Select operation:\")\n",
        "print(\"1. Add\")\n",
        "print(\"2. Subtract\")\n",
        "print(\"3. Multiply\")\n",
        "print(\"4. Divide\")\n",
        "\n",
        "while True:\n",
        "    operation = input(\"Enter the number of the operation you want to perform: \")\n",
        "    if operation in ['1', '2', '3', '4']:\n",
        "        num1 = float(input(\"Enter first number: \"))\n",
        "        num2 = float(input(\"Enter second number: \"))\n",
        "\n",
        "        if operation == '1':\n",
        "            print(num1, \"+\", num2, \"=\", add(num1, num2))\n",
        "\n",
        "        elif operation == '2':\n",
        "            print(num1, \"-\", num2, \"=\", subtract(num1, num2))\n",
        "\n",
        "        elif operation == '3':\n",
        "            print(num1, \"*\", num2, \"=\", multiply(num1, num2))\n",
        "\n",
        "        elif operation == '4':\n",
        "            print(num1, \"/\", num2, \"=\", divide(num1, num2))\n",
        "\n",
        "        next_calculation = input(\"Do you want to continue calculation (yes/no): \")\n",
        "        if next_calculation == \"no\":\n",
        "            break\n",
        "\n",
        "    else:\n",
        "        print(\"Invalid input! Please enter a number between 1 and 4.\")"
      ],
      "metadata": {
        "colab": {
          "base_uri": "https://localhost:8080/"
        },
        "id": "B80nEUay07n6",
        "outputId": "6638e9d3-9525-49fe-c046-5ec06415e669"
      },
      "execution_count": 5,
      "outputs": [
        {
          "name": "stdout",
          "output_type": "stream",
          "text": [
            "Select operation:\n",
            "1. Add\n",
            "2. Subtract\n",
            "3. Multiply\n",
            "4. Divide\n",
            "Enter the number of the operation you want to perform: 2\n",
            "Enter first number: 5\n",
            "Enter second number: 6\n",
            "5.0 - 6.0 = -1.0\n",
            "Do you want to continue calculation (yes/no): no\n"
          ]
        }
      ]
    },
    {
      "cell_type": "markdown",
      "source": [
        "3. Write a function that takes the lengths of the two shorter sides of a right triangle as its\n",
        "parameters. Return the hypotenuse of the triangle, computed using Pythagorean theorem,\n",
        "as the function’s result."
      ],
      "metadata": {
        "id": "YpxRrymg1XLm"
      }
    },
    {
      "cell_type": "code",
      "source": [
        "import math\n",
        "\n",
        "def find_hypotenuse(side1, side2):\n",
        "    return math.sqrt(side1**2 + side2**2)\n",
        "\n",
        "# Test the function with example inputs\n",
        "print(find_hypotenuse(8, 6))"
      ],
      "metadata": {
        "colab": {
          "base_uri": "https://localhost:8080/"
        },
        "id": "zbWHE8qD1YgW",
        "outputId": "275ea11f-fd58-45f4-e755-3739397b068a"
      },
      "execution_count": 6,
      "outputs": [
        {
          "output_type": "stream",
          "name": "stdout",
          "text": [
            "10.0\n"
          ]
        }
      ]
    },
    {
      "cell_type": "markdown",
      "source": [
        "4. The Rectangle problem\n",
        "(a) Write a Rectangle class in Python language, allowing you to build a rectangle with\n",
        "length and width attributes.\n",
        "(b) Create a Perimeter() method to calculate the perimeter of the rectangle and a Area()\n",
        "method to calculate the area of the rectangle.\n",
        "(c) Create a method display() that display the length, width, perimeter and area of an\n",
        "object created using an instantiation on rectangle class"
      ],
      "metadata": {
        "id": "2nQKiLeU1xNf"
      }
    },
    {
      "cell_type": "code",
      "source": [
        "class Rectangle:\n",
        "    def __init__(self, length, width):\n",
        "        self.length = length\n",
        "        self.width = width\n",
        "\n",
        "    def Perimeter(self):\n",
        "        return 2 * (self.length + self.width)\n",
        "\n",
        "    def Area(self):\n",
        "        return self.length * self.width\n",
        "\n",
        "    def display(self):\n",
        "        print(f\"Length: {self.length}\")\n",
        "        print(f\"Width: {self.width}\")\n",
        "        print(f\"Perimeter: {self.Perimeter()}\")\n",
        "        print(f\"Area: {self.Area()}\")\n",
        "\n",
        "# Example usage\n",
        "rect = Rectangle(7, 8)\n",
        "rect.display()"
      ],
      "metadata": {
        "colab": {
          "base_uri": "https://localhost:8080/"
        },
        "id": "ByyYzxRH1yyV",
        "outputId": "f51d00fc-9c48-4e39-a975-a8668a9b7e9f"
      },
      "execution_count": 7,
      "outputs": [
        {
          "output_type": "stream",
          "name": "stdout",
          "text": [
            "Length: 7\n",
            "Width: 8\n",
            "Perimeter: 30\n",
            "Area: 56\n"
          ]
        }
      ]
    },
    {
      "cell_type": "markdown",
      "source": [
        "5. The Bank Account problem\n",
        "(a) Create a Python class called BankAccount which represents a bank account, having\n",
        "as attributes: accountNumber (numeric type), name (name of the account owner as\n",
        "string type), balance.\n",
        "(b) Create a constructor with parameters: accountNumber, name, balance.\n",
        "(c) Create a Deposit() method which manages the deposit actions.\n",
        "(d) Create a Withdrawal() method which manages withdrawals actions.\n",
        "(e) Create an bankFees() method to apply the bank fees with a percentage of 5% of the\n",
        "balance account.\n",
        "(f) Create a display() method to display account details."
      ],
      "metadata": {
        "id": "Bn59zmDe1-pF"
      }
    },
    {
      "cell_type": "code",
      "source": [
        "class Bank_Account:\n",
        "    def __init__(self, accountNumber, name, balance):\n",
        "        self.accountNumber = accountNumber\n",
        "        self.name = name\n",
        "        self.balance = balance\n",
        "\n",
        "    def Deposit(self, amount):\n",
        "        self.balance += amount\n",
        "\n",
        "    def Withdrawal(self, amount):\n",
        "        if amount > self.balance:\n",
        "            print(\"Insufficient funds!\")\n",
        "        else:\n",
        "            self.balance -= amount\n",
        "\n",
        "    def bankFees(self):\n",
        "        self.balance -= self.balance * 0.05\n",
        "\n",
        "    def display(self):\n",
        "        print(f\"Account Number: {self.accountNumber}\")\n",
        "        print(f\"Account Name: {self.name}\")\n",
        "        print(f\"Account Balance: {self.balance}\")\n",
        "\n",
        "# Example usage\n",
        "account = Bank_Account(7245152464, \"Dany\", 5000)\n",
        "account.Deposit(2100)\n",
        "account.Withdrawal(500)\n",
        "account.bankFees()\n",
        "account.display()"
      ],
      "metadata": {
        "colab": {
          "base_uri": "https://localhost:8080/"
        },
        "id": "fMdU72ra2DEe",
        "outputId": "8234d8ec-dd70-4f17-ea8d-526b5219b6f0"
      },
      "execution_count": 8,
      "outputs": [
        {
          "output_type": "stream",
          "name": "stdout",
          "text": [
            "Account Number: 7245152464\n",
            "Account Name: Dany\n",
            "Account Balance: 6270.0\n"
          ]
        }
      ]
    }
  ]
}