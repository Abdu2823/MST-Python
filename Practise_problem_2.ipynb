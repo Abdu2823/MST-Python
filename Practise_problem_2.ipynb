{
  "nbformat": 4,
  "nbformat_minor": 0,
  "metadata": {
    "colab": {
      "provenance": []
    },
    "kernelspec": {
      "name": "python3",
      "display_name": "Python 3"
    },
    "language_info": {
      "name": "python"
    }
  },
  "cells": [
    {
      "cell_type": "markdown",
      "source": [
        "\n",
        "\n",
        "\n",
        "\n",
        "Practice Problems Day 02\n",
        "\n",
        "    \n"
      ],
      "metadata": {
        "id": "u6V7YIExIfDy"
      }
    },
    {
      "cell_type": "markdown",
      "source": [
        "1.Write a program to find sum of all elements in a list of integers."
      ],
      "metadata": {
        "id": "8_S69R-yrHXp"
      }
    },
    {
      "cell_type": "code",
      "source": [
        "my_list = [1, 2, 3,4]\n",
        "total=0\n",
        "for num in my_list:\n",
        "    total = total+num\n",
        "print(\"The sum is:\", total)"
      ],
      "metadata": {
        "colab": {
          "base_uri": "https://localhost:8080/"
        },
        "id": "kEdEsp5lX6iR",
        "outputId": "16330bf3-52b1-4f83-e674-a86b153241c3"
      },
      "execution_count": 1,
      "outputs": [
        {
          "output_type": "stream",
          "name": "stdout",
          "text": [
            "The sum is: 10\n"
          ]
        }
      ]
    },
    {
      "cell_type": "markdown",
      "source": [
        "2. Input a sentence as a string.\n",
        "a) Print its length\n",
        "b) Print the first half of string"
      ],
      "metadata": {
        "id": "NhZiluOSsVIq"
      }
    },
    {
      "cell_type": "code",
      "source": [
        "my_string = \"This is a string\"\n",
        "length = len(my_string)\n",
        "first_half = len(my_string)//2\n",
        "print(\"The length of the string:\", length)\n",
        "print(\"The first half is:\", first_half)"
      ],
      "metadata": {
        "colab": {
          "base_uri": "https://localhost:8080/"
        },
        "id": "bHE3sj24spAN",
        "outputId": "8de26aad-0dec-4170-a826-99593c09a9a9"
      },
      "execution_count": 3,
      "outputs": [
        {
          "output_type": "stream",
          "name": "stdout",
          "text": [
            "The length of the string: 16\n",
            "The first half is: 8\n"
          ]
        }
      ]
    },
    {
      "cell_type": "markdown",
      "source": [
        "3. Write a program to enter a tuple of integers as\n",
        "(78,45,32,19,82,77,40,39). Change the third value in the tuple to\n",
        "100"
      ],
      "metadata": {
        "id": "HQRGEMAxszOm"
      }
    },
    {
      "cell_type": "code",
      "source": [
        "my_tuple = (78, 45, 32, 19, 82, 77, 40, 39)\n",
        "y=list(my_tuple)\n",
        "y[2]=100\n",
        "print(y)"
      ],
      "metadata": {
        "colab": {
          "base_uri": "https://localhost:8080/"
        },
        "id": "bcpLWOCIsXAf",
        "outputId": "027c9e10-aa07-4b5e-ed67-9495a736b499"
      },
      "execution_count": 4,
      "outputs": [
        {
          "output_type": "stream",
          "name": "stdout",
          "text": [
            "[78, 45, 100, 19, 82, 77, 40, 39]\n"
          ]
        }
      ]
    },
    {
      "cell_type": "markdown",
      "source": [
        "4.onsider a list listA=[19,32,10,55,31,32,94,29,10,65,77,40,40]\n",
        "(a) Delete the first occurrence of 32\n",
        "(b) Delete all occurrences of 40\n",
        "(c) Delete the value at index=5\n",
        "(d) Modify the value at index=9 as 300\n",
        "(e) Add 200 at index=2\n",
        "(f) Print the final list with its length, maximum value\n",
        "and sum of all elements"
      ],
      "metadata": {
        "id": "c8iiw9BCtBRT"
      }
    },
    {
      "cell_type": "code",
      "source": [
        "listA=[19,32,10,55,31,32,94,29,10,65,77,40,40]\n",
        "# (a) Delete the first occurrence of 32\n",
        "listA.pop(1)\n",
        "\n",
        "# (b) Delete all occurrences of 40\n",
        "listA.remove(40)\n",
        "\n",
        "# (c) Delete the value at index=5\n",
        "del listA[5]\n",
        "\n",
        "# (d) Modify the value at index=9 as 300\n",
        "listA[9]=300\n",
        "\n",
        "# (e) Add 200 at index=2\n",
        "listA.insert(2, 200)\n",
        "\n",
        "# (f) Print the final list with its length, maximum value, and sum of all elements\n",
        "print(\"Final List:\", listA)\n",
        "print(\"Length of the List:\", len(listA))\n",
        "print(\"Maximum Value:\", max(listA))\n",
        "print(\"Sum of all elements:\", sum(listA))\n"
      ],
      "metadata": {
        "colab": {
          "base_uri": "https://localhost:8080/"
        },
        "id": "cpuwupcTtKqW",
        "outputId": "7743b1aa-e36d-4a65-efd7-61139e1acd7c"
      },
      "execution_count": 5,
      "outputs": [
        {
          "output_type": "stream",
          "name": "stdout",
          "text": [
            "Final List: [19, 10, 200, 55, 31, 32, 29, 10, 65, 77, 300]\n",
            "Length of the List: 11\n",
            "Maximum Value: 300\n",
            "Sum of all elements: 828\n"
          ]
        }
      ]
    },
    {
      "cell_type": "markdown",
      "source": [
        "5. Consider a string ”The day has been long”.\n",
        "(a) Delete the value at index =4\n",
        "(b) Print the string 4 times in a single line with space\n",
        "between each repetition\n",
        "(c) Print the string 3 times in a new line each time\n",
        "(d) Modify the string at index 7 as ’A’\n",
        "(e) Print the string from index 4 to 15\n",
        "(f) Print the final string with its length"
      ],
      "metadata": {
        "id": "YqSu-Tx6tfE_"
      }
    },
    {
      "cell_type": "code",
      "source": [
        "# Given string\n",
        "my_string = \"The day has been long\"\n",
        "\n",
        "# (a) Delete the value at index 4\n",
        "my_string = my_string[:4] + my_string[5:]\n",
        "print(my_string,\"\\n\")\n",
        "\n",
        "# (b) Print the string 4 times in a single line with space between each repetition\n",
        "\n",
        "print((my_string,'' )* 4,\"\\n\")\n",
        "\n",
        "# (c) Print the string 3 times in a new line each time\n",
        "for i in range(3):\n",
        "    print(my_string)\n",
        "\n",
        "# (d) Modify the string at index 7 as 'A'\n",
        "my_string = my_string[:7] + 'A' + my_string[8:]\n",
        "\n",
        "# (e) Print the string from index 4 to 15\n",
        "print(my_string[4:16])\n",
        "\n",
        "# (f) Print the final string with its length\n",
        "print(\"Final string:\", my_string)\n",
        "print(\"Length of the string:\", len(my_string))"
      ],
      "metadata": {
        "colab": {
          "base_uri": "https://localhost:8080/"
        },
        "id": "d6Mkq_Oetoqa",
        "outputId": "a24c2d9c-a28e-4cc1-e5af-974e605a10c1"
      },
      "execution_count": 6,
      "outputs": [
        {
          "output_type": "stream",
          "name": "stdout",
          "text": [
            "The ay has been long \n",
            "\n",
            "('The ay has been long', '', 'The ay has been long', '', 'The ay has been long', '', 'The ay has been long', '') \n",
            "\n",
            "The ay has been long\n",
            "The ay has been long\n",
            "The ay has been long\n",
            "ay Aas been \n",
            "Final string: The ay Aas been long\n",
            "Length of the string: 20\n"
          ]
        }
      ]
    }
  ]
}