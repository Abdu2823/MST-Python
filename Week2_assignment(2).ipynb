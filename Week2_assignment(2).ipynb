{
  "nbformat": 4,
  "nbformat_minor": 0,
  "metadata": {
    "colab": {
      "provenance": []
    },
    "kernelspec": {
      "name": "python3",
      "display_name": "Python 3"
    },
    "language_info": {
      "name": "python"
    }
  },
  "cells": [
    {
      "cell_type": "markdown",
      "source": [
        "1. Write an interactive Python Program to implement following “Guess Game”\n",
        "i.Think of a number between 1 and 10 and store it in a variable called\n",
        "\"secretNumber\".\n",
        "ii.Ask the user to enter a number between 1 and 10 and store it in a variable called\n",
        "\"guess\".\n",
        "iii.Use control statements (if-else) to check if the guess is correct, higher, or lower\n",
        "than the secret number.\n",
        "iv.Display appropriate messages to the user based on their guess:\n",
        "v.\n",
        "•If the guess is correct, display \"Congratulations! You guessed the number\n",
        "correctly!\"\n",
        "•If the guess is higher than the secret number, display \"Too high! Try\n",
        "again.\"\n",
        "•If the guess is lower than the secret number, display \"Too low! Try again.\"\n",
        "Allow the user to keep guessing until they guess the correct number."
      ],
      "metadata": {
        "id": "op5MYczQ4PbY"
      }
    },
    {
      "cell_type": "code",
      "execution_count": 3,
      "metadata": {
        "colab": {
          "base_uri": "https://localhost:8080/"
        },
        "id": "8Jc_rURQ4DOr",
        "outputId": "b948138c-4637-4537-83ba-1cdc070f3b37"
      },
      "outputs": [
        {
          "output_type": "stream",
          "name": "stdout",
          "text": [
            "Think a number between 1 and 10: 5\n",
            "Guess a number between 1 and 10: 5\n",
            "Congratulations! You guessed the number correctly!\n",
            "It took you 1 guesses.\n"
          ]
        }
      ],
      "source": [
        "\n",
        "\n",
        "secretNumber = int(input(\"Think a number between 1 and 10: \"))\n",
        "\n",
        "numGuesses = 0\n",
        "\n",
        "while True:\n",
        "    numGuesses += 1\n",
        "    guess = int(input(\"Guess a number between 1 and 10: \"))\n",
        "\n",
        "\n",
        "    if guess == secretNumber:\n",
        "        print(\"Congratulations! You guessed the number correctly!\")\n",
        "        print(f\"It took you {numGuesses} guesses.\")\n",
        "        break\n",
        "    elif guess > secretNumber:\n",
        "        print(\"Too high! Try again.\")\n",
        "    else:\n",
        "        print(\"Too low! Try again.\")"
      ]
    },
    {
      "cell_type": "markdown",
      "source": [
        "Write a program to find and print the Factorial of this number. The Factorial of a positive\n",
        "integer N refers to the product of all number in the range from 1 to N."
      ],
      "metadata": {
        "id": "y36W4vWS5s-f"
      }
    },
    {
      "cell_type": "code",
      "source": [
        "\n",
        "def factorial(n):\n",
        "    if n <= 1:\n",
        "        return 1\n",
        "    else:\n",
        "        return n * factorial(n-1)\n",
        "num = int(input(\"Enter a number to find its factorial: \"))\n",
        "result = factorial(num)\n",
        "print(f\"The factorial of {num} is {result}.\")"
      ],
      "metadata": {
        "colab": {
          "base_uri": "https://localhost:8080/"
        },
        "id": "zuPNpylx5zPm",
        "outputId": "4732ca35-76a8-434d-ebee-aae9d82855eb"
      },
      "execution_count": 5,
      "outputs": [
        {
          "output_type": "stream",
          "name": "stdout",
          "text": [
            "Enter a number to find its factorial: 5\n",
            "The factorial of 5 is 120.\n"
          ]
        }
      ]
    },
    {
      "cell_type": "markdown",
      "source": [
        "Roy wants to change his profile picture on Facebook. Now Facebook has some\n",
        "restriction over the dimension of picture that we can upload.\n",
        "Minimum dimension of the picture can be L x L, where L is the length of the side\n",
        "of square. Now Roy has N photos of various dimensions.\n",
        "Dimension of a photo is denoted as W x H\n",
        "where W - width of the photo and H - Height of the photo\n",
        "•\n",
        "When any photo is uploaded following events may occur:\n",
        "[1] If any of the width or height is less than L, user is prompted to upload another\n",
        "one. Print \"UPLOAD ANOTHER\" in this case.[2] If width and height, both are large enough and\n",
        "(a) if the photo is already square then it is accepted. Print \"ACCEPTED\" in this\n",
        "case.\n",
        "(b) else user is prompted to crop it. Print \"CROP IT\" in this case.\n",
        "Given L, N, W and H as input, write a program to print appropriate text as output."
      ],
      "metadata": {
        "id": "fogSaYfL6P25"
      }
    },
    {
      "cell_type": "code",
      "source": [
        "def is_square(width, height):\n",
        "    return width == height\n",
        "N=10\n",
        "L=5\n",
        "for i in range(N):\n",
        "    width = int(input(\"Enter width of photo \" ))\n",
        "    height = int(input(\"Enter height of photo \" ))\n",
        "    if width < L or height < L:\n",
        "        print(\"UPLOAD ANOTHER\")\n",
        "    elif is_square(width, height):\n",
        "        print(\"ACCEPTED\")\n",
        "    else:\n",
        "        print(\"CROP IT\")"
      ],
      "metadata": {
        "colab": {
          "base_uri": "https://localhost:8080/"
        },
        "id": "wgQXsIFM6bDP",
        "outputId": "3f15c652-bbbb-46c5-eed9-8aeebc951bd4"
      },
      "execution_count": 15,
      "outputs": [
        {
          "output_type": "stream",
          "name": "stdout",
          "text": [
            "Enter width of photo 5\n",
            "Enter height of photo 5\n",
            "ACCEPTED\n"
          ]
        }
      ]
    }
  ]
}