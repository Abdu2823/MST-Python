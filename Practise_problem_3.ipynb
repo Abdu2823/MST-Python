{
  "nbformat": 4,
  "nbformat_minor": 0,
  "metadata": {
    "colab": {
      "provenance": []
    },
    "kernelspec": {
      "name": "python3",
      "display_name": "Python 3"
    },
    "language_info": {
      "name": "python"
    }
  },
  "cells": [
    {
      "cell_type": "code",
      "execution_count": null,
      "metadata": {
        "id": "f3L61EN3gM-9"
      },
      "outputs": [],
      "source": []
    },
    {
      "cell_type": "markdown",
      "source": [
        "Given the participants' score sheet for your University Sports Day, you are required to find the runner-up score. You are given scores. Store them in a list and find the score of the runner-up. (Create an array of scores and print the runner up score)\n"
      ],
      "metadata": {
        "id": "9mpsEkjqlLiy"
      }
    },
    {
      "cell_type": "code",
      "source": [
        "scores = [90, 85, 80, 75, 70]\n",
        "scores.sort(reverse=True)\n",
        "max_value = scores[0]\n",
        "if scores.count(max_value) > 1:\n",
        "    del scores[:scores.index(max_value)]\n",
        "print(\"Runner up score=\",scores[1])"
      ],
      "metadata": {
        "colab": {
          "base_uri": "https://localhost:8080/"
        },
        "id": "hdFdNkCJlSjE",
        "outputId": "d00d1da6-277e-4d08-ce42-22cf5a02dfc6"
      },
      "execution_count": 1,
      "outputs": [
        {
          "output_type": "stream",
          "name": "stdout",
          "text": [
            "Runner up score= 85\n"
          ]
        }
      ]
    },
    {
      "cell_type": "markdown",
      "source": [
        "A dictionary is given D={‘John’ [25,32,43],’Peter’:[87,55,96],’Ram’:[58,55,43],’Meena’:[63,79,85]} Get a name from user if the name in the dictionary change the values corresponding to that user to [88,77,99] and print the dictionary. Else print ‘Name not found’."
      ],
      "metadata": {
        "id": "PbK0q9ZLlfM-"
      }
    },
    {
      "cell_type": "code",
      "source": [
        "D = {'John': [25, 32, 43], 'Peter': [87, 55, 96], 'Ram': [58, 55, 43], 'Meena': [63, 79, 85]}\n",
        "\n",
        "name = input(\"Enter a name: \")\n",
        "\n",
        "if name in D:\n",
        "    D[name] = [88, 77, 99]\n",
        "    print(D)\n",
        "else:\n",
        "    print(\"Name not found\")"
      ],
      "metadata": {
        "colab": {
          "base_uri": "https://localhost:8080/"
        },
        "id": "XS3loBLllnK6",
        "outputId": "690c94a6-da94-4151-dd66-2c68815b0206"
      },
      "execution_count": 2,
      "outputs": [
        {
          "output_type": "stream",
          "name": "stdout",
          "text": [
            "Enter a name: Meena\n",
            "{'John': [25, 32, 43], 'Peter': [87, 55, 96], 'Ram': [58, 55, 43], 'Meena': [88, 77, 99]}\n"
          ]
        }
      ]
    },
    {
      "cell_type": "markdown",
      "source": [
        "\n",
        "\n",
        "Ticket Price Calculator: I. Ask the user to enter their age. II. Use control statements (if-elif-else) to calculate the ticket price based on the following conditions: a. If the age is below 5, the ticket price is free. b. If the age is between 5 and 12 (inclusive), the ticket price is Rs.10. c. If the age is above 12, the ticket price is Rs.50. d. If the age is above 60, the ticket price is free. e. If the gender is female, the ticket price is 50% of the applicable rates. III. Display the ticket price to the user.\n"
      ],
      "metadata": {
        "id": "o-6VLqu1lvwf"
      }
    },
    {
      "cell_type": "code",
      "source": [
        "age = int(input(\"Enter your age: \"))\n",
        "gender = input(\"Enter your gender (Male or Female): \")\n",
        "if age < 5:\n",
        "    price = 0\n",
        "elif age <= 12:\n",
        "    price = 10\n",
        "elif age > 60:\n",
        "    price = 0\n",
        "else:\n",
        "    price = 50\n",
        "if gender == 'Female':\n",
        "    price = price * 0.5\n",
        "print(\"The ticket price for you is: \", price)"
      ],
      "metadata": {
        "colab": {
          "base_uri": "https://localhost:8080/"
        },
        "id": "mezmTIRWl3Ua",
        "outputId": "ddf654d5-4b88-4f7b-d304-9c6dd913ac67"
      },
      "execution_count": 3,
      "outputs": [
        {
          "output_type": "stream",
          "name": "stdout",
          "text": [
            "Enter your age: 10\n",
            "Enter your gender (Male or Female): Male\n",
            "The ticket price for you is:  10\n"
          ]
        }
      ]
    }
  ]
}